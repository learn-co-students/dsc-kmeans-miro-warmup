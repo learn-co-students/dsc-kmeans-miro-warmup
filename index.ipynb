{
 "cells": [
  {
   "cell_type": "markdown",
   "metadata": {},
   "source": [
    "# KMeans Messing with Miro"
   ]
  },
  {
   "cell_type": "markdown",
   "metadata": {},
   "source": [
    "Let's practice k-means clustering with an image of a piece of art. "
   ]
  },
  {
   "cell_type": "code",
   "execution_count": null,
   "metadata": {},
   "outputs": [],
   "source": [
    "# Our new clustering class\n",
    "from sklearn.cluster import KMeans\n",
    "\n",
    "import matplotlib.pyplot as plt\n",
    "# Allows us to visualize images through matplotlib plot methods\n",
    "import matplotlib.image as mpimg\n",
    "\n",
    "# Old favorites\n",
    "import pandas as pd\n",
    "import numpy as np"
   ]
  },
  {
   "cell_type": "markdown",
   "metadata": {},
   "source": [
    "Let's look at a colorful Miro painting with matplotlib."
   ]
  },
  {
   "cell_type": "code",
   "execution_count": null,
   "metadata": {},
   "outputs": [],
   "source": [
    "fig, ax = plt.subplots(figsize=(10,10))\n",
    "img = mpimg.imread('data/miro.jpg')\n",
    "imgplot = ax.imshow(img)"
   ]
  },
  {
   "cell_type": "code",
   "execution_count": null,
   "metadata": {},
   "outputs": [],
   "source": [
    "# What is the shape of the image, and what does each component represent?\n"
   ]
  },
  {
   "cell_type": "code",
   "execution_count": null,
   "metadata": {},
   "outputs": [],
   "source": [
    "# Code here"
   ]
  },
  {
   "cell_type": "code",
   "execution_count": null,
   "metadata": {},
   "outputs": [],
   "source": [
    "#__SOLUTION__\n",
    "img.shape"
   ]
  },
  {
   "cell_type": "code",
   "execution_count": null,
   "metadata": {},
   "outputs": [],
   "source": [
    "# Let's look at one pixel\n"
   ]
  },
  {
   "cell_type": "code",
   "execution_count": null,
   "metadata": {},
   "outputs": [],
   "source": [
    "#__SOLUTION__\n",
    "# Let's look at one pixel\n",
    "img[0,0,:]"
   ]
  },
  {
   "cell_type": "code",
   "execution_count": null,
   "metadata": {},
   "outputs": [],
   "source": [
    "# Flatten the image so that each row represents one RGB triad\n",
    "img_reshape = img.reshape()"
   ]
  },
  {
   "cell_type": "code",
   "execution_count": null,
   "metadata": {},
   "outputs": [],
   "source": [
    "#__SOLUTION__\n",
    "# flatten\n",
    "img_reshape = img.reshape(img.shape[0]*img.shape[1], 3)"
   ]
  },
  {
   "cell_type": "code",
   "execution_count": null,
   "metadata": {},
   "outputs": [],
   "source": [
    "# Check the shape\n",
    "img_reshape.shape"
   ]
  },
  {
   "cell_type": "code",
   "execution_count": null,
   "metadata": {},
   "outputs": [],
   "source": [
    "# after clustering, we will restore the original shape\n",
    "# the code below demonstrates that the original image is restored by reshaping\n",
    "# to the original dimensions \n",
    "\n",
    "fig, ax = plt.subplots(figsize=(10,10))\n",
    "img = mpimg.imread('./data/miro.jpg')\n",
    "restored_image = img_reshape.reshape(img.shape[0],img.shape[1], 3)\n",
    "imgplot = ax.imshow(restored_image)\n",
    "\n"
   ]
  },
  {
   "cell_type": "markdown",
   "metadata": {},
   "source": [
    "We will use the KMeans algorithm to reduce the number of colors in the photo.   \n",
    "\n",
    "Start by reducing the number of colors to 2.  To do so we will have to pass an appropriate argument  when instantianting a KMeans object.  The number of clusters we initiate will determine the number of colors that the image is reduced to.\n",
    "\n",
    "In order to visualize the groupings, we will replace the original pixel values with the cluster centers associated with the assigned label."
   ]
  },
  {
   "cell_type": "code",
   "execution_count": null,
   "metadata": {},
   "outputs": [],
   "source": [
    "# Reminder of our flattened image\n",
    "img_reshape.shape"
   ]
  },
  {
   "cell_type": "code",
   "execution_count": null,
   "metadata": {},
   "outputs": [],
   "source": [
    "# Instantiate a KMeans object with the argument n_clusters equal to 2\n",
    "# code here\n",
    "km = None"
   ]
  },
  {
   "cell_type": "code",
   "execution_count": null,
   "metadata": {},
   "outputs": [],
   "source": [
    "#__SOLUTION__\n",
    "# Start with three colors\n",
    "km = KMeans(2)\n"
   ]
  },
  {
   "cell_type": "code",
   "execution_count": null,
   "metadata": {},
   "outputs": [],
   "source": [
    "# Fit the km object to img_reshape\n",
    "# code here"
   ]
  },
  {
   "cell_type": "code",
   "execution_count": null,
   "metadata": {},
   "outputs": [],
   "source": [
    "#__SOLUTION__\n",
    "new_image = km.fit(img_reshape)"
   ]
  },
  {
   "cell_type": "code",
   "execution_count": null,
   "metadata": {},
   "outputs": [],
   "source": [
    "# view the assigned labels via the labels_ attribute\n",
    "# code here"
   ]
  },
  {
   "cell_type": "code",
   "execution_count": null,
   "metadata": {},
   "outputs": [],
   "source": [
    "#__SOLUTION__\n",
    "km.labels_"
   ]
  },
  {
   "cell_type": "code",
   "execution_count": null,
   "metadata": {},
   "outputs": [],
   "source": [
    "# view the cluster centers via the cluster_centers_ attribute\n",
    "# code here"
   ]
  },
  {
   "cell_type": "code",
   "execution_count": null,
   "metadata": {},
   "outputs": [],
   "source": [
    "#__SOLUTION__\n",
    "km.cluster_centers_"
   ]
  },
  {
   "cell_type": "code",
   "execution_count": null,
   "metadata": {},
   "outputs": [],
   "source": [
    "# create a list which stores the cluster center associated with each label in a list.  \n",
    "# The list should be 1734000 elements long\n",
    "\n",
    "label_centers = []\n",
    "for label in km.labels_:\n",
    "    None"
   ]
  },
  {
   "cell_type": "code",
   "execution_count": null,
   "metadata": {},
   "outputs": [],
   "source": [
    "#__SOLUTION__\n",
    "label_centers = []\n",
    "for label in km.labels_:\n",
    "    label_centers.append(list(km.cluster_centers_[label]))\n",
    "len(label_centers)"
   ]
  },
  {
   "cell_type": "code",
   "execution_count": null,
   "metadata": {},
   "outputs": [],
   "source": [
    "# Convert list to array\n",
    "centers_2 = np.array(label_centers)"
   ]
  },
  {
   "cell_type": "code",
   "execution_count": null,
   "metadata": {},
   "outputs": [],
   "source": [
    "# check shape is (1734000, 3)\n",
    "centers_2.shape"
   ]
  },
  {
   "cell_type": "code",
   "execution_count": null,
   "metadata": {},
   "outputs": [],
   "source": [
    "# reshape to (1200, 1445, 3)\n",
    "new_image_2 = None\n",
    "new_image_2.shape"
   ]
  },
  {
   "cell_type": "code",
   "execution_count": null,
   "metadata": {},
   "outputs": [],
   "source": [
    "#__SOLUTION__\n",
    "new_image_2 = centers_2.reshape(img.shape[0],img.shape[1], 3)\n",
    "new_image_2.shape\n"
   ]
  },
  {
   "cell_type": "code",
   "execution_count": null,
   "metadata": {},
   "outputs": [],
   "source": [
    "# Run the cell below to plot the new image.  It should have only 2 colors"
   ]
  },
  {
   "cell_type": "code",
   "execution_count": null,
   "metadata": {},
   "outputs": [],
   "source": [
    "fig, ax = plt.subplots(figsize=(10,10))\n",
    "imgplot = ax.imshow(new_image_2.astype(int))"
   ]
  },
  {
   "cell_type": "markdown",
   "metadata": {},
   "source": [
    "### Explain in your own words why the image looks like it does."
   ]
  },
  {
   "cell_type": "markdown",
   "metadata": {},
   "source": [
    "Write answer here"
   ]
  },
  {
   "cell_type": "code",
   "execution_count": null,
   "metadata": {},
   "outputs": [],
   "source": [
    "#__SOLUTION__\n",
    "'''By finding clusters of nearest pixels, the KMeans algorithm reduces the number of colors coded in the picture.  With 2 clusters specified, KMeans finds the RGB pixel values which split the pixels into two clusters. These two centers are chosen because they represent the minimum total distance of the points in each group from their respective centers.'''"
   ]
  },
  {
   "cell_type": "markdown",
   "metadata": {},
   "source": [
    "Now, try out different numbers of clusters and see their affect on the painting."
   ]
  },
  {
   "cell_type": "code",
   "execution_count": null,
   "metadata": {},
   "outputs": [],
   "source": [
    "#__SOLUTION__\n",
    "def paint_picture(n_clusters):\n",
    "    \n",
    "    '''\n",
    "    Plot a picture with reduced color saturation via kmeans clustering.\n",
    "    '''\n",
    "    \n",
    "    km = KMeans(n_clusters)\n",
    "    km.fit(img_reshape)\n",
    "    \n",
    "    label_centers = []\n",
    "    for label in km.labels_:\n",
    "        label_centers.append(list(km.cluster_centers_[label]))\n",
    "        \n",
    "    centers = np.array(label_centers)\n",
    "    new_image = centers.reshape(img.shape[0],img.shape[1], 3)\n",
    "\n",
    "    fig, ax = plt.subplots(figsize=(10,10))\n",
    "    imgplot = ax.imshow(new_image.astype(int))\n",
    "\n",
    "    paint_picture(50)    "
   ]
  }
 ],
 "metadata": {
  "kernelspec": {
   "display_name": "learn-env_2",
   "language": "python",
   "name": "learn-env_2"
  },
  "language_info": {
   "codemirror_mode": {
    "name": "ipython",
    "version": 3
   },
   "file_extension": ".py",
   "mimetype": "text/x-python",
   "name": "python",
   "nbconvert_exporter": "python",
   "pygments_lexer": "ipython3",
   "version": "3.8.5"
  }
 },
 "nbformat": 4,
 "nbformat_minor": 5
}
