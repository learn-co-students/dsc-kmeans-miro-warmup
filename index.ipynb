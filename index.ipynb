{
 "cells": [
  {
   "cell_type": "markdown",
   "id": "valued-replica",
   "metadata": {},
   "source": [
    "# KMeans Messing with Miro"
   ]
  },
  {
   "cell_type": "markdown",
   "id": "excess-distance",
   "metadata": {},
   "source": [
    "Let's practice k-means clustering with an image of a piece of art. "
   ]
  },
  {
   "cell_type": "code",
   "execution_count": null,
   "id": "buried-surrey",
   "metadata": {},
   "outputs": [],
   "source": [
    "# Our new clustering class\n",
    "from sklearn.cluster import KMeans\n",
    "\n",
    "import matplotlib.pyplot as plt\n",
    "# Allows us to visualize images through matplotlib plot methods\n",
    "import matplotlib.image as mpimg\n",
    "\n",
    "# Old favorites\n",
    "import pandas as pd\n",
    "import numpy as np"
   ]
  },
  {
   "cell_type": "markdown",
   "id": "after-weapon",
   "metadata": {},
   "source": [
    "Let's look at a colorful Miro painting with matplotlib."
   ]
  },
  {
   "cell_type": "code",
   "execution_count": null,
   "id": "grateful-ancient",
   "metadata": {},
   "outputs": [],
   "source": [
    "fig, ax = plt.subplots(figsize=(10,10))\n",
    "img = mpimg.imread('data/miro.jpg')\n",
    "imgplot = ax.imshow(img)"
   ]
  },
  {
   "cell_type": "markdown",
   "id": "boring-fountain",
   "metadata": {},
   "source": [
    "What is the shape of the image, and what does each component represent?\n"
   ]
  },
  {
   "cell_type": "markdown",
   "id": "pending-teach",
   "metadata": {},
   "source": [
    "your answer here"
   ]
  },
  {
   "cell_type": "code",
   "execution_count": null,
   "id": "living-investor",
   "metadata": {},
   "outputs": [],
   "source": [
    "# Code here"
   ]
  },
  {
   "cell_type": "code",
   "execution_count": null,
   "id": "direct-newport",
   "metadata": {},
   "outputs": [],
   "source": [
    "# Let's look at one pixel\n"
   ]
  },
  {
   "cell_type": "code",
   "execution_count": null,
   "id": "initial-atlanta",
   "metadata": {},
   "outputs": [],
   "source": [
    "# Flatten the image so that each row represents one RGB triad\n",
    "img_reshape = img.reshape()"
   ]
  },
  {
   "cell_type": "code",
   "execution_count": null,
   "id": "returning-database",
   "metadata": {},
   "outputs": [],
   "source": [
    "# Check the shape\n",
    "img_reshape.shape"
   ]
  },
  {
   "cell_type": "code",
   "execution_count": null,
   "id": "joint-retro",
   "metadata": {},
   "outputs": [],
   "source": [
    "# after clustering, we will restore the original shape\n",
    "# the code below demonstrates that the original image is restored by reshaping\n",
    "# to the original dimensions \n",
    "\n",
    "fig, ax = plt.subplots(figsize=(10,10))\n",
    "img = mpimg.imread('./data/miro.jpg')\n",
    "restored_image = img_reshape.reshape(img.shape[0],img.shape[1], 3)\n",
    "imgplot = ax.imshow(restored_image)\n",
    "\n"
   ]
  },
  {
   "cell_type": "markdown",
   "id": "legal-pride",
   "metadata": {},
   "source": [
    "Now,  we will use the KMeans algorithm to reduce the number of colors in the photo.   \n",
    "\n",
    "Start by reducing the number of colors to 2.  To do so we will have to pass an appropriate argument  when instantianting a KMeans object.  The number of clusters we initiate will determine the number of colors that the image is reduced to.\n",
    "\n",
    "In order to visualize the groupings, we will replace the original pixel values with the cluster centers associated with the assigned label."
   ]
  },
  {
   "cell_type": "code",
   "execution_count": null,
   "id": "retained-sixth",
   "metadata": {},
   "outputs": [],
   "source": [
    "# Reminder of our flattened image\n",
    "img_reshape.shape"
   ]
  },
  {
   "cell_type": "code",
   "execution_count": null,
   "id": "diagnostic-match",
   "metadata": {},
   "outputs": [],
   "source": [
    "# Instantiate a KMeans object with the argument n_clusters equal to 2\n",
    "# code here\n",
    "km = None"
   ]
  },
  {
   "cell_type": "code",
   "execution_count": null,
   "id": "chronic-concrete",
   "metadata": {},
   "outputs": [],
   "source": [
    "# Fit the km object to img_reshape\n",
    "# code here"
   ]
  },
  {
   "cell_type": "code",
   "execution_count": null,
   "id": "chemical-travel",
   "metadata": {},
   "outputs": [],
   "source": [
    "# view the assigned labels via the labels_ attribute\n",
    "# code here"
   ]
  },
  {
   "cell_type": "code",
   "execution_count": null,
   "id": "permanent-newsletter",
   "metadata": {},
   "outputs": [],
   "source": [
    "# view the cluster centers via the cluster_centers_ attribute\n",
    "# code here"
   ]
  },
  {
   "cell_type": "code",
   "execution_count": null,
   "id": "behavioral-mortgage",
   "metadata": {},
   "outputs": [],
   "source": [
    "# create a list which stores the cluster center associated with each label in a list.  \n",
    "# The list should be 1734000 elements long\n",
    "\n",
    "label_centers = []\n",
    "for label in km.labels_:\n",
    "    None"
   ]
  },
  {
   "cell_type": "code",
   "execution_count": null,
   "id": "brave-captain",
   "metadata": {},
   "outputs": [],
   "source": [
    "# Convert list to array\n",
    "centers_2 = np.array(label_centers)"
   ]
  },
  {
   "cell_type": "code",
   "execution_count": null,
   "id": "junior-fundamentals",
   "metadata": {},
   "outputs": [],
   "source": [
    "# check shape is (1734000, 3)\n",
    "centers_2.shape"
   ]
  },
  {
   "cell_type": "code",
   "execution_count": null,
   "id": "obvious-samuel",
   "metadata": {},
   "outputs": [],
   "source": [
    "# reshape to (1200, 1445, 3)\n",
    "new_image_2 = None\n",
    "new_image_2.shape"
   ]
  },
  {
   "cell_type": "code",
   "execution_count": null,
   "id": "mineral-cowboy",
   "metadata": {},
   "outputs": [],
   "source": [
    "# Run the cell below to plot the new image.  It should have only 2 colors"
   ]
  },
  {
   "cell_type": "code",
   "execution_count": null,
   "id": "forbidden-dylan",
   "metadata": {},
   "outputs": [],
   "source": [
    "fig, ax = plt.subplots(figsize=(10,10))\n",
    "imgplot = ax.imshow(new_image_2.astype(int))"
   ]
  },
  {
   "cell_type": "markdown",
   "id": "russian-aluminum",
   "metadata": {},
   "source": [
    "### Explain in your own words why the image looks like it does."
   ]
  },
  {
   "cell_type": "markdown",
   "id": "direct-thirty",
   "metadata": {},
   "source": [
    "Write answer here"
   ]
  },
  {
   "cell_type": "markdown",
   "id": "spatial-payment",
   "metadata": {},
   "source": [
    "Now, try out different numbers of clusters and see their affect on the painting."
   ]
  }
 ],
 "metadata": {
  "kernelspec": {
   "display_name": "learn-env_2",
   "language": "python",
   "name": "learn-env_2"
  },
  "language_info": {
   "codemirror_mode": {
    "name": "ipython",
    "version": 3
   },
   "file_extension": ".py",
   "mimetype": "text/x-python",
   "name": "python",
   "nbconvert_exporter": "python",
   "pygments_lexer": "ipython3",
   "version": "3.7.3"
  }
 },
 "nbformat": 4,
 "nbformat_minor": 5
}
